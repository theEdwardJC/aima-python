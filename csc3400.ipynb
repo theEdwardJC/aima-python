{
 "cells": [
  {
   "cell_type": "markdown",
   "metadata": {},
   "source": [
    "# Implementation Notes for CSC 3400\n",
    "\n",
    "This document is a running commentary on the implementation of the Python code for Russell and Norvig's AIMA text to a PyCharm environment, for teaching CSC 3400 at Belmont University.  It is intended primarily for students in the course, but may also be useful for instructors in similar courses.\n",
    "\n",
    "My background: I have taught AI with a variety of textbooks over 25 years, and started using the 2nd edition of AIMA back when it was scheme-based.  I switched to Java eight years ago, because we teach Java in the programming I/II sequence at Belmont.  I am switching to Python this year, using PyCharm-EDU as the development platform."
   ]
  },
  {
   "cell_type": "markdown",
   "metadata": {},
   "source": [
    "## Tools\n",
    "\n",
    "* PyCharm installation was uneventful: Google, download, install.  So far, PyCharm Edu seems adequate for this course.\n",
    "* I used git to clone the AIMA code from https://github.com/aimacode/aima-python.git\n",
    "* I launched PyCharm, opened the aima-python directory as a new project (as described in\n",
    "https://www.jetbrains.com/help/pycharm/2016.1/importing-project-from-existing-source-code.html).\n",
    "* I had been using python 2.7, but aima-python requires python 3.  I duly installed it and changed the project interpreter to python 3.5.\n",
    "* I found that code and data are separate, so I used git to clone the AIMA data from https://github.com/aimacode/aima-data.git, then linked the aima-data directory into the aima-code tree."
   ]
  },
  {
   "cell_type": "markdown",
   "metadata": {},
   "source": [
    "## First steps\n",
    "\n",
    "* AIMA has a *tests* folder in aima-code, and PyCharm allowed me to right-click the folder and run all 102 tests, which passed.  Whew!\n",
    "* Better yet, I set a break point in the best_first_graph_search method of *search.py*, right-clicked *test-search.py* file in the *tests* folder, and launched the debugger; PyCharm sped to the breakpoint, where I could watch Arad give way to Zerind, then Timisoara, etc.  Sweet!"
   ]
  },
  {
   "cell_type": "markdown",
   "metadata": {},
   "source": [
    "## Agents\n",
    "\n",
    "* The Agent, Environment, Percept and Actuator classes are all crammed into agents.py"
   ]
  }
 ],
 "metadata": {
  "kernelspec": {
   "display_name": "Python 3",
   "language": "python",
   "name": "python3"
  },
  "language_info": {
   "codemirror_mode": {
    "name": "ipython",
    "version": 3.0
   },
   "file_extension": ".py",
   "mimetype": "text/x-python",
   "name": "python",
   "nbconvert_exporter": "python",
   "pygments_lexer": "ipython3",
   "version": "3.5.1"
  }
 },
 "nbformat": 4,
 "nbformat_minor": 0
}